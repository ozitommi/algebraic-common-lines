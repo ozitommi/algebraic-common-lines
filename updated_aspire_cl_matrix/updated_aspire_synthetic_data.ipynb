{
 "cells": [
  {
   "cell_type": "code",
   "execution_count": 3,
   "id": "22b72c20-89ef-4f92-b26a-833e97775839",
   "metadata": {},
   "outputs": [
    {
     "ename": "ModuleNotFoundError",
     "evalue": "No module named 'aspire'",
     "output_type": "error",
     "traceback": [
      "\u001b[0;31m---------------------------------------------------------------------------\u001b[0m",
      "\u001b[0;31mModuleNotFoundError\u001b[0m                       Traceback (most recent call last)",
      "\u001b[0;32m/var/folders/ww/7lfl9jrj5x705nlk_pkp7phw0000gn/T/ipykernel_85306/1920991778.py\u001b[0m in \u001b[0;36m<module>\u001b[0;34m\u001b[0m\n\u001b[1;32m     11\u001b[0m \u001b[0;32mfrom\u001b[0m \u001b[0mscipy\u001b[0m\u001b[0;34m.\u001b[0m\u001b[0mspatial\u001b[0m\u001b[0;34m.\u001b[0m\u001b[0mtransform\u001b[0m \u001b[0;32mimport\u001b[0m \u001b[0mRotation\u001b[0m \u001b[0;32mas\u001b[0m \u001b[0mR\u001b[0m\u001b[0;34m\u001b[0m\u001b[0;34m\u001b[0m\u001b[0m\n\u001b[1;32m     12\u001b[0m \u001b[0;34m\u001b[0m\u001b[0m\n\u001b[0;32m---> 13\u001b[0;31m \u001b[0;32mfrom\u001b[0m \u001b[0maspire\u001b[0m\u001b[0;34m.\u001b[0m\u001b[0mimage\u001b[0m \u001b[0;32mimport\u001b[0m \u001b[0mImage\u001b[0m\u001b[0;34m\u001b[0m\u001b[0;34m\u001b[0m\u001b[0m\n\u001b[0m\u001b[1;32m     14\u001b[0m \u001b[0;32mfrom\u001b[0m \u001b[0maspire\u001b[0m\u001b[0;34m.\u001b[0m\u001b[0mnoise\u001b[0m \u001b[0;32mimport\u001b[0m \u001b[0mWhiteNoiseAdder\u001b[0m\u001b[0;34m\u001b[0m\u001b[0;34m\u001b[0m\u001b[0m\n\u001b[1;32m     15\u001b[0m \u001b[0;32mfrom\u001b[0m \u001b[0maspire\u001b[0m\u001b[0;34m.\u001b[0m\u001b[0moperators\u001b[0m \u001b[0;32mimport\u001b[0m \u001b[0mScalarFilter\u001b[0m\u001b[0;34m\u001b[0m\u001b[0;34m\u001b[0m\u001b[0m\n",
      "\u001b[0;31mModuleNotFoundError\u001b[0m: No module named 'aspire'"
     ]
    }
   ],
   "source": [
    "import os\n",
    "import logging\n",
    "\n",
    "import mrcfile\n",
    "import numpy as np\n",
    "import matplotlib.pyplot as plt\n",
    "\n",
    "import cl_utils as cl\n",
    "\n",
    "from scipy import ndimage as ndi\n",
    "from scipy.spatial.transform import Rotation as R\n",
    "\n",
    "from aspire.image import Image\n",
    "from aspire.noise import WhiteNoiseAdder\n",
    "from aspire.operators import ScalarFilter\n",
    "from aspire.source.simulation import Simulation\n",
    "from aspire.source import ArrayImageSource\n",
    "from aspire.utils import Rotation, gaussian_2d, rots_to_clmatrix\n",
    "from aspire.volume import Volume\n",
    "from aspire.abinitio import CLSyncVoting"
   ]
  },
  {
   "cell_type": "code",
   "execution_count": 2,
   "id": "c30db705-47fb-4955-a5c4-6f88383b7d28",
   "metadata": {},
   "outputs": [],
   "source": [
    "### some helper functions\n",
    "\n",
    "def rot_matrix_2d(theta):\n",
    "    return np.array([[np.cos(theta), -np.sin(theta)],\n",
    "                     [np.sin(theta),  np.cos(theta)]])\n",
    "\n",
    "\n",
    "def form_cl_matrix_from_cl_angles(cl_angles, n_total):\n",
    "    \n",
    "    A = np.zeros((2*n_total, n_total))\n",
    "\n",
    "    point = np.array([[1, 0]]).T\n",
    "\n",
    "    for pair, angles in cl_angles.items():\n",
    "        i, j = pair\n",
    "\n",
    "        theta_ij = np.deg2rad(angles[0])\n",
    "        theta_ji = np.deg2rad(angles[1])\n",
    "\n",
    "        Ri = rot_matrix_2d(theta_ij)\n",
    "        Rj = rot_matrix_2d(theta_ji)\n",
    "\n",
    "        ri = Ri @ point\n",
    "        rj = Rj @ point\n",
    "\n",
    "        A[2*i:2*i+2, j] = ri.T  \n",
    "        A[2*j:2*j+2, i] = rj.T\n",
    "        \n",
    "    return A\n",
    "\n",
    "\n",
    "def within_n_degrees(gt_clmatrix, est_clmatrix, n):\n",
    "    \"\"\"number images within n_degrees of gt common line angle\"\"\"\n",
    "    \n",
    "    angle_diffs = abs(est_clmatrix - gt_clmatrix)\n",
    "    within_n = np.count_nonzero(angle_diffs <= n)\n",
    "    within_n += np.count_nonzero(angle_diffs >= 360-n)\n",
    "    \n",
    "    return within_n / angle_diffs.size"
   ]
  },
  {
   "cell_type": "code",
   "execution_count": 3,
   "id": "2f07e9db-e8ae-472d-8418-46276da3e874",
   "metadata": {},
   "outputs": [],
   "source": [
    "### Inputs ###\n",
    "np.random.seed(0)\n",
    "\n",
    "DATA_DIR = '/scratch/network/ev9102/Data/'  # set the input directory with your EMDBs \n",
    "emd_id = 'emd_2858.map'  # 40S, 60S, 80S, Apo = 'emd_22052.map'\n",
    "n_img = 10  # number of images for each structure\n",
    "L = 128  # size to downsample the volume\n",
    "snr = 1  # snr for additive wgn to projection images\n",
    "add_mask = True  # add circular mask to images\n",
    "mask_radius = L//2  # in pixels\n",
    "use_noisy = False  # option to use the noisy images of clean images\n",
    "angles = np.arange(0, 360, 1)  # angular sampling for line projections\n",
    "r = cl.get_random_euler_angles(n_img) # pick Euler angles (in rads) for 'ZYZ' convention"
   ]
  },
  {
   "cell_type": "code",
   "execution_count": 4,
   "id": "8ca08976-aa17-430d-978a-3d8b56bcd6b6",
   "metadata": {},
   "outputs": [],
   "source": [
    "logger = logging.getLogger(__name__)\n",
    "\n",
    "with mrcfile.open(os.path.join(DATA_DIR, emd_id)) as mrc:\n",
    "    volume = mrc.data\n",
    "    vox = mrc.voxel_size.x\n",
    "    mrc.close()\n",
    "\n",
    "volume = Volume(volume).downsample(L)"
   ]
  },
  {
   "cell_type": "code",
   "execution_count": null,
   "id": "099c7510-248a-4792-8c7a-53519bf9ffcf",
   "metadata": {},
   "outputs": [
    {
     "name": "stdout",
     "output_type": "stream",
     "text": [
      "2024-02-22 15:15:36,959 INFO [aspire.source.image] Creating Simulation with 10 images.\n",
      "2024-02-22 15:15:36,965 INFO [aspire.source.simulation] Appending WhiteNoiseAdder with variance=None to generation pipeline\n"
     ]
    },
    {
     "name": "stderr",
     "output_type": "stream",
     "text": [
      "100%|██████████| 1/1 [00:00<00:00,  1.03it/s]\n"
     ]
    }
   ],
   "source": [
    "rots = Rotation.from_euler(r)  # list of rotations in Aspire format\n",
    "shifts = np.zeros((n_img, 2))  # not including shifts for now\n",
    "amplitudes = np.ones(n_img)\n",
    "\n",
    "src = Simulation(vols=volume,  # our Volume\n",
    "                  L=volume.resolution,  # resolution, should match Volume\n",
    "                  n=n_img,  # number of projection images\n",
    "                  angles=rots.angles,  # pass our rotations as Euler angles\n",
    "                  offsets=shifts,  # translations (wrt to origin)\n",
    "                  amplitudes=amplitudes,  # amplification ( 1 is identity)\n",
    "                  noise_adder=WhiteNoiseAdder.from_snr(snr=snr),\n",
    "                  seed=12345,  # RNG seed for reproducibility\n",
    "                  dtype=volume.dtype  # match our datatype to the Volume.\n",
    "                )\n",
    "\n",
    "clean_images = src.projections[:].asnumpy()\n",
    "noisy_images = src.images[:].asnumpy()\n",
    "\n",
    "if use_noisy:\n",
    "    images = noisy_images\n",
    "else:\n",
    "    images = clean_images"
   ]
  },
  {
   "cell_type": "code",
   "execution_count": null,
   "id": "c0c4fabe-faa6-4526-8205-a14611af9ad7",
   "metadata": {},
   "outputs": [],
   "source": [
    "# ### compute the line projection distances and form common lines matrix\n",
    "# ### format is (img1, img2) : (theta1, theta2) --> angles to rotate for common lines using np conventions\n",
    "# cl_angles = cl.compute_common_line_angles(images, angles)\n",
    "\n",
    "# ### now form A, the common lines matrix\n",
    "# A = cl.form_cl_matrix_from_cl_angles(cl_angles, n_img)"
   ]
  },
  {
   "cell_type": "code",
   "execution_count": null,
   "id": "394768fa-8b72-4557-9d80-643f0f34afd6",
   "metadata": {},
   "outputs": [],
   "source": [
    "### etsimate common lines and common lines matrix using aspire\n",
    "\n",
    "aspire_images = ArrayImageSource(images)  # pass images back to aspire class\n",
    "\n",
    "orient_est = CLSyncVoting(aspire_images, n_theta=360, max_shift=0.15, shift_step=0.5)\n",
    "orient_est.build_clmatrix()\n",
    "\n",
    "est_cl_matrix = orient_est.clmatrix\n",
    "gt_cl_matrix = rots_to_clmatrix(src.rotations, n_theta=360)\n",
    "\n",
    "cl_angles = {}\n",
    "\n",
    "for i in range(n_img-1):\n",
    "    for j in range(i+1, n_img):\n",
    "        cl_angles[(i, j)] = [est_cl_matrix[i, j], est_cl_matrix[j, i]]\n",
    "        \n",
    "A = form_cl_matrix_from_cl_angles(cl_angles, n_img)\n",
    "\n",
    "plt.imshow(est_cl_matrix)\n",
    "plt.colorbar()\n",
    "plt.show()\n",
    "plt.imshow(A)\n",
    "plt.colorbar()\n",
    "plt.show()"
   ]
  },
  {
   "cell_type": "code",
   "execution_count": null,
   "id": "21f1fc57-0592-4f9b-adcf-bd44573abeca",
   "metadata": {},
   "outputs": [],
   "source": [
    "### Visualize a common line projection\n",
    "\n",
    "idx_i = 0\n",
    "idx_j = 1\n",
    "\n",
    "theta_i = cl_angles[(idx_i, idx_j)][0]\n",
    "theta_j = cl_angles[(idx_i, idx_j)][1]\n",
    "\n",
    "img_i = ndi.rotate(images[idx_i], theta_i, reshape=False)\n",
    "img_j = ndi.rotate(images[idx_j], theta_j, reshape=False)\n",
    "\n",
    "c_ij = np.sum(img_i, axis=0)\n",
    "c_ji = np.sum(img_j, axis=0)\n",
    "\n",
    "cl.two_plot(img_i, img_j)\n",
    "plt.plot(c_ij)\n",
    "plt.plot(c_ji)\n",
    "plt.show()"
   ]
  },
  {
   "cell_type": "code",
   "execution_count": null,
   "id": "6a6d2b7e-e94c-43be-bc4f-6611f86ef8c3",
   "metadata": {},
   "outputs": [],
   "source": [
    "print(within_n_degrees(gt_cl_matrix, est_cl_matrix, n=5))"
   ]
  },
  {
   "cell_type": "code",
   "execution_count": null,
   "id": "292dc873-d0a4-4e1a-a656-7b176e2ef39f",
   "metadata": {},
   "outputs": [],
   "source": [
    "# ### save data to matlab format\n",
    "# from scipy.io import savemat\n",
    "\n",
    "# est_cl_mat_dict = {'est_cl_matrix': est_cl_matrix}\n",
    "# savemat('Data/updated_aspire_estimated_cl_matrix.m', est_cl_mat_dict)\n",
    "\n",
    "# gt_cl_mat_dict = {'gt_cl_matrix': gt_cl_matrix}\n",
    "# savemat('Data/updated_aspire_groundtruth_cl_matrix.m', gt_cl_matrix_dict)\n",
    "\n",
    "# gt_rotations_dict = {'gt_rotations': rots.matrices}\n",
    "# savemat('Data/updated_aspire_rotation_matrix.m', gt_rotations_dict)"
   ]
  },
  {
   "cell_type": "code",
   "execution_count": null,
   "id": "df32afa0-b88e-46e8-b280-c73dd5355fe6",
   "metadata": {},
   "outputs": [],
   "source": []
  }
 ],
 "metadata": {
  "kernelspec": {
   "display_name": "Python 3 (ipykernel)",
   "language": "python",
   "name": "python3"
  },
  "language_info": {
   "codemirror_mode": {
    "name": "ipython",
    "version": 3
   },
   "file_extension": ".py",
   "mimetype": "text/x-python",
   "name": "python",
   "nbconvert_exporter": "python",
   "pygments_lexer": "ipython3",
   "version": "3.9.13"
  }
 },
 "nbformat": 4,
 "nbformat_minor": 5
}
